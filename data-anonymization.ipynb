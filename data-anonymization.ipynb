{
  "nbformat": 4,
  "nbformat_minor": 0,
  "metadata": {
    "colab": {
      "provenance": []
    },
    "kernelspec": {
      "name": "python3",
      "display_name": "Python 3"
    },
    "language_info": {
      "name": "python"
    }
  },
  "cells": [
    {
      "cell_type": "markdown",
      "source": [
        "Pseudonymization:Replace the entries under 'Name' attribute of a dataset into pseudonyms like \"User_i\" using Python\n"
      ],
      "metadata": {
        "id": "kELSBFu5G_Ij"
      }
    },
    {
      "cell_type": "code",
      "execution_count": null,
      "metadata": {
        "id": "Ds1d-X96G8eO"
      },
      "outputs": [],
      "source": [
        "import pandas as pd\n",
        "\n",
        "# Read the dataset into a pandas DataFrame\n",
        "df = pd.read_csv('synthetic_dataset.csv')\n",
        "print(df.head())\n",
        "\n",
        "# Replace the entries under the 'Name' attribute with pseudonyms like \"User_i\"\n",
        "df['Name'] = ['User_' + str(i) for i in range(1, len(df) + 1)]\n",
        "\n",
        "# Print the first 5 entries of the modified dataframe\n",
        "print('Modified dataset')\n",
        "print(df.head())"
      ]
    },
    {
      "cell_type": "markdown",
      "source": [
        "Redaction\n",
        "Write a python code to redact the entries under the attribute 'Email' in a dataframe such that only the first and last characters of the username and the service providers are visible. Rest all characters are replaced with the character '*'."
      ],
      "metadata": {
        "id": "b1BMnPtlHIZR"
      }
    },
    {
      "cell_type": "code",
      "source": [
        "import pandas as pd\n",
        "\n",
        "# Read the dataset into a pandas DataFrame\n",
        "df = pd.read_csv('synthetic_dataset.csv')\n",
        "print(df.head())\n",
        "\n",
        "# Replace the entries under the 'Name' attribute with pseudonyms like \"User_i\"\n",
        "df['Name'] = ['User_' + str(i) for i in range(1, len(df) + 1)]\n",
        "\n",
        "# Function to redact email addresses\n",
        "def redact_email(email):\n",
        "    username, domain = email.split('@')\n",
        "    redacted_username = username[0] + '*'*(len(username)-2) + username[-1]\n",
        "    redacted_domain = domain[0] + '*'*(len(domain)-2) + domain[-1]\n",
        "    return redacted_username + '@' + redacted_domain\n",
        "\n",
        "# Redact 'Email' column in the dataframe\n",
        "df['Email'] = df['Email'].apply(redact_email)\n",
        "\n",
        "# Print the first 5 entries of the modified dataframe\n",
        "print('Modified dataset')\n",
        "print(df.head())"
      ],
      "metadata": {
        "id": "sPK7JogFHJq0"
      },
      "execution_count": null,
      "outputs": []
    },
    {
      "cell_type": "markdown",
      "source": [
        "Generalization\n",
        "Write a python code to generalize the entries under the attribute 'Age' of a data frame such that exact number is converted into a generic range. For example, 28 becomes '20s', 36 becomes '30s', etc."
      ],
      "metadata": {
        "id": "kjDYh8mrHNC9"
      }
    },
    {
      "cell_type": "code",
      "source": [
        "import pandas as pd\n",
        "\n",
        "# Read the dataset into a pandas DataFrame\n",
        "df = pd.read_csv('synthetic_dataset.csv')\n",
        "print(df.head())\n",
        "\n",
        "# Replace the entries under the 'Name' attribute with pseudonyms like \"User_i\"\n",
        "df['Name'] = ['User_' + str(i) for i in range(1, len(df) + 1)]\n",
        "\n",
        "# Function to redact email addresses\n",
        "def redact_email(email):\n",
        "    username, domain = email.split('@')\n",
        "    redacted_username = username[0] + '*'*(len(username)-2) + username[-1]\n",
        "    redacted_domain = domain[0] + '*'*(len(domain)-2) + domain[-1]\n",
        "    return redacted_username + '@' + redacted_domain\n",
        "\n",
        "# Redact 'Email' column in the dataframe\n",
        "df['Email'] = df['Email'].apply(redact_email)\n",
        "\n",
        "# Function to generalize age\n",
        "def generalize_age(age):\n",
        "    age_range = str(age)[0] + '0s'\n",
        "    return age_range\n",
        "# Generalize 'Age' column in the dataframe\n",
        "df['Age'] = df['Age'].apply(generalize_age)\n",
        "\n",
        "# Print the first 5 entries of the modified dataframe\n",
        "print('Modified dataset')\n",
        "print(df.head())"
      ],
      "metadata": {
        "id": "NGMBeLuQHQJc"
      },
      "execution_count": null,
      "outputs": []
    },
    {
      "cell_type": "markdown",
      "source": [
        "Noise addition\n",
        "Write python code to add random noise of 5 digit length to a numerical attribute 'Contact Number' in a data frame which had all values of length 10 digits."
      ],
      "metadata": {
        "id": "sYqwtCGCHUOm"
      }
    },
    {
      "cell_type": "code",
      "source": [
        "import pandas as pd\n",
        "import random\n",
        "\n",
        "# Read the dataset into a pandas DataFrame\n",
        "df = pd.read_csv('synthetic_dataset.csv')\n",
        "print(df.head())\n",
        "\n",
        "# Replace the entries under the 'Name' attribute with pseudonyms like \"User_i\"\n",
        "df['Name'] = ['User_' + str(i) for i in range(1, len(df) + 1)]\n",
        "\n",
        "# Function to redact email addresses\n",
        "def redact_email(email):\n",
        "    username, domain = email.split('@')\n",
        "    redacted_username = username[0] + '*'*(len(username)-2) + username[-1]\n",
        "    redacted_domain = domain[0] + '*'*(len(domain)-2) + domain[-1]\n",
        "    return redacted_username + '@' + redacted_domain\n",
        "\n",
        "# Redact 'Email' column in the dataframe\n",
        "df['Email'] = df['Email'].apply(redact_email)\n",
        "\n",
        "# Function to generalize age\n",
        "def generalize_age(age):\n",
        "    age_range = str(age)[0] + '0s'\n",
        "    return age_range\n",
        "\n",
        "# Generalize 'Age' column in the dataframe\n",
        "df['Age'] = df['Age'].apply(generalize_age)\n",
        "\n",
        "def add_random_noise(contact_number):\n",
        "    noise = str(random.randint(10000, 99999))\n",
        "    return str(contact_number)[:-5] + noise\n",
        "\n",
        "# Add random noise to 'Contact Number' column in the dataframe\n",
        "df['Contact Number'] = df['Contact Number'].apply(add_random_noise)\n",
        "\n",
        "# Print the first 5 entries of the modified dataframe\n",
        "print('Modified dataset')\n",
        "print(df.head())"
      ],
      "metadata": {
        "id": "REcrlfbGHXhC"
      },
      "execution_count": null,
      "outputs": []
    }
  ]
}